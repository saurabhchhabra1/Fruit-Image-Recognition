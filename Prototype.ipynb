{
 "cells": [
  {
   "cell_type": "code",
   "execution_count": 2,
   "metadata": {},
   "outputs": [
    {
     "name": "stdout",
     "output_type": "stream",
     "text": [
      "Collecting google-cloud-vision\n",
      "  Downloading google_cloud_vision-2.3.2-py2.py3-none-any.whl (367 kB)\n",
      "Collecting proto-plus>=1.15.0\n",
      "  Downloading proto_plus-1.18.1-py3-none-any.whl (42 kB)\n",
      "Requirement already satisfied: packaging>=14.3 in c:\\users\\chhab\\anaconda3\\lib\\site-packages (from google-cloud-vision) (20.1)\n",
      "Collecting google-api-core[grpc]<2.0.0dev,>=1.22.2\n",
      "  Downloading google_api_core-1.30.0-py2.py3-none-any.whl (93 kB)\n",
      "Collecting protobuf>=3.12.0\n",
      "  Downloading protobuf-3.17.3-cp37-cp37m-win_amd64.whl (909 kB)\n",
      "Requirement already satisfied: pyparsing>=2.0.2 in c:\\users\\chhab\\anaconda3\\lib\\site-packages (from packaging>=14.3->google-cloud-vision) (2.4.6)\n",
      "Requirement already satisfied: six in c:\\users\\chhab\\anaconda3\\lib\\site-packages (from packaging>=14.3->google-cloud-vision) (1.14.0)\n",
      "Requirement already satisfied: pytz in c:\\users\\chhab\\anaconda3\\lib\\site-packages (from google-api-core[grpc]<2.0.0dev,>=1.22.2->google-cloud-vision) (2019.3)\n",
      "Requirement already satisfied: setuptools>=40.3.0 in c:\\users\\chhab\\anaconda3\\lib\\site-packages (from google-api-core[grpc]<2.0.0dev,>=1.22.2->google-cloud-vision) (45.2.0.post20200210)\n",
      "Requirement already satisfied: requests<3.0.0dev,>=2.18.0 in c:\\users\\chhab\\anaconda3\\lib\\site-packages (from google-api-core[grpc]<2.0.0dev,>=1.22.2->google-cloud-vision) (2.22.0)\n",
      "Collecting googleapis-common-protos<2.0dev,>=1.6.0\n",
      "  Downloading googleapis_common_protos-1.53.0-py2.py3-none-any.whl (198 kB)\n",
      "Collecting google-auth<2.0dev,>=1.25.0\n",
      "  Downloading google_auth-1.32.0-py2.py3-none-any.whl (147 kB)\n",
      "Collecting grpcio<2.0dev,>=1.29.0; extra == \"grpc\"\n",
      "  Downloading grpcio-1.38.1-cp37-cp37m-win_amd64.whl (3.1 MB)\n",
      "Requirement already satisfied: certifi>=2017.4.17 in c:\\users\\chhab\\anaconda3\\lib\\site-packages (from requests<3.0.0dev,>=2.18.0->google-api-core[grpc]<2.0.0dev,>=1.22.2->google-cloud-vision) (2019.11.28)\n",
      "Requirement already satisfied: urllib3!=1.25.0,!=1.25.1,<1.26,>=1.21.1 in c:\\users\\chhab\\anaconda3\\lib\\site-packages (from requests<3.0.0dev,>=2.18.0->google-api-core[grpc]<2.0.0dev,>=1.22.2->google-cloud-vision) (1.25.8)\n",
      "Requirement already satisfied: chardet<3.1.0,>=3.0.2 in c:\\users\\chhab\\anaconda3\\lib\\site-packages (from requests<3.0.0dev,>=2.18.0->google-api-core[grpc]<2.0.0dev,>=1.22.2->google-cloud-vision) (3.0.4)\n",
      "Requirement already satisfied: idna<2.9,>=2.5 in c:\\users\\chhab\\anaconda3\\lib\\site-packages (from requests<3.0.0dev,>=2.18.0->google-api-core[grpc]<2.0.0dev,>=1.22.2->google-cloud-vision) (2.8)\n",
      "Collecting cachetools<5.0,>=2.0.0\n",
      "  Downloading cachetools-4.2.2-py3-none-any.whl (11 kB)\n",
      "Collecting rsa<5,>=3.1.4; python_version >= \"3.6\"\n",
      "  Downloading rsa-4.7.2-py3-none-any.whl (34 kB)\n",
      "Collecting pyasn1-modules>=0.2.1\n",
      "  Downloading pyasn1_modules-0.2.8-py2.py3-none-any.whl (155 kB)\n",
      "Collecting pyasn1>=0.1.3\n",
      "  Downloading pyasn1-0.4.8-py2.py3-none-any.whl (77 kB)\n",
      "Installing collected packages: protobuf, proto-plus, googleapis-common-protos, cachetools, pyasn1, rsa, pyasn1-modules, google-auth, grpcio, google-api-core, google-cloud-vision\n",
      "Successfully installed cachetools-4.2.2 google-api-core-1.30.0 google-auth-1.32.0 google-cloud-vision-2.3.2 googleapis-common-protos-1.53.0 grpcio-1.38.1 proto-plus-1.18.1 protobuf-3.17.3 pyasn1-0.4.8 pyasn1-modules-0.2.8 rsa-4.7.2\n"
     ]
    }
   ],
   "source": [
    "!pip install google-cloud-vision\n",
    "\n"
   ]
  },
  {
   "cell_type": "code",
   "execution_count": 3,
   "metadata": {},
   "outputs": [
    {
     "name": "stdout",
     "output_type": "stream",
     "text": [
      "Collecting opencv-python\n",
      "  Downloading opencv_python-4.5.2.54-cp37-cp37m-win_amd64.whl (34.7 MB)\n",
      "Requirement already satisfied: numpy>=1.14.5 in c:\\users\\chhab\\anaconda3\\lib\\site-packages (from opencv-python) (1.19.4)\n",
      "Installing collected packages: opencv-python\n",
      "Successfully installed opencv-python-4.5.2.54\n"
     ]
    }
   ],
   "source": [
    "!pip install opencv-python"
   ]
  },
  {
   "cell_type": "code",
   "execution_count": 1,
   "metadata": {},
   "outputs": [
    {
     "name": "stdout",
     "output_type": "stream",
     "text": [
      "---------- Start FOOD Recognition --------\n",
      "['apple', 'akee', 'apricot', 'avocado', 'banana', 'bilberry', 'blackberry', 'blackcurrant', 'black sapote', 'blueberry', 'boysenberry', \"buddha's hand\", 'fingered citron', 'crab apples', 'currant', 'cherry', 'cherimoya', 'custard apple', 'chico fruit', 'cloudberry', 'coconut', 'cranberry', 'cucumber', 'damson', 'date', 'dragonfruit', 'pitaya', 'durian', 'elderberry', 'feijoa', 'fig', 'goji berry', 'gooseberry', 'grape', 'raisin', 'grapefruit', 'guava', 'honeyberry', 'huckleberry', 'jabuticaba', 'jackfruit', 'jambul', 'japanese plum', 'jostaberry', 'jujube', 'juniper berry', 'kiwano', 'horned melon', 'kiwifruit', 'kumquat', 'lemon', 'lime', 'loquat', 'longan', 'lychee', 'mango', 'mangosteen', 'marionberry', 'melon', 'cantaloupe', 'honeydew', 'watermelon', 'miracle fruit', 'mulberry', 'nectarine', 'nance', 'olive', 'orange', 'blood orange', 'clementine', 'mandarine', 'tangerine', 'papaya', 'passionfruit', 'peach', 'pear', 'persimmon', 'plantain', 'plum', 'prune', 'pineapple', 'pineberry', 'plumcot', 'pluot', 'pomegranate', 'pomelo', 'purple mangosteen', 'quince', 'raspberry', 'salmonberry', 'rambutan', 'mamin chino', 'redcurrant', 'salal berry', 'salak', 'satsuma', 'soursop', 'star apple', 'star fruit', 'strawberry', 'surinam cherry', 'tamarillo', 'tamarind', 'ugli fruit', 'white currant', 'white sapote', 'yuzu', 'avocado', 'bell pepper', 'chili pepper', 'corn kernel', 'cucumber', 'eggplant', 'olive', 'pea', 'pumpkin', 'squash', 'tomato', 'zucchini']\n",
      "label:  food   score:  0.99\n",
      "label:  fruit   score:  0.93\n",
      "label:  liquid   score:  0.92\n",
      "label:  natural foods   score:  0.9\n",
      "label:  mcintosh   score:  0.87\n",
      "label:  plant   score:  0.86\n",
      "label:  seedless fruit   score:  0.86\n",
      "label:  fluid   score:  0.85\n",
      "label:  apple   score:  0.85\n",
      "Total time: 0:00:04.155223\n",
      "---------- End ----------\n",
      "label:  food   score:  0.98\n",
      "label:  banana   score:  0.98\n",
      "Total time: 0:00:04.823314\n",
      "---------- End ----------\n"
     ]
    }
   ],
   "source": [
    "import io\n",
    "import os\n",
    "from datetime import datetime\n",
    "\n",
    "import cv2\n",
    "from google.cloud import vision_v1p3beta1 as vision\n",
    "\n",
    "# Setup google authen client key\n",
    "os.environ['GOOGLE_APPLICATION_CREDENTIALS'] = 'client_key.json'\n",
    "\n",
    "# Source path content all images\n",
    "SOURCE_PATH = \"C:/Users/chhab/Desktop/Fruits/\"\n",
    "\n",
    "\n",
    "FOOD_TYPE = 'Fruit'\n",
    "\n",
    "\n",
    "def load_food_name(food_type):\n",
    "#Loading all the fruit names\n",
    "    names = [line.rstrip('\\n').lower() for line in open( food_type + '.dict')]\n",
    "    return names\n",
    "\n",
    "\n",
    "def recognize_food(img_path, list_foods):\n",
    "    start_time = datetime.now()\n",
    "\n",
    "    # Read image with opencv\n",
    "    img = cv2.imread(img_path)\n",
    "\n",
    "    # Get image size\n",
    "    height, width = img.shape[:2]\n",
    "\n",
    "    # Scale image\n",
    "    img = cv2.resize(img, (800, int((height * 800) / width)))\n",
    "\n",
    "    # Save the image to temp file\n",
    "    cv2.imwrite(SOURCE_PATH + \"output.jpg\", img)\n",
    "\n",
    "    # Create new img path for google vision\n",
    "    img_path = SOURCE_PATH + \"output.jpg\"\n",
    "\n",
    "    # Create google vision client\n",
    "    client = vision.ImageAnnotatorClient()\n",
    "\n",
    "    # Read image file\n",
    "    with io.open(img_path, 'rb') as image_file:\n",
    "        content = image_file.read()\n",
    "\n",
    "    image = vision.types.Image(content=content)\n",
    "\n",
    "    # Recognize text\n",
    "    response = client.label_detection(image=image)\n",
    "    labels = response.label_annotations\n",
    "\n",
    "    for label in labels:\n",
    "        \n",
    "        desc = label.description.lower()\n",
    "        score = round(label.score, 2)\n",
    "        print(\"label: \", desc, \"  score: \", score)\n",
    "        if (desc in list_foods):\n",
    "\n",
    "            cv2.putText(img, desc.upper(), (300, 150), cv2.FONT_HERSHEY_SIMPLEX, 1, (50, 50, 200), 2)\n",
    "            cv2.imshow('Recognize & Draw', img)\n",
    "            cv2.waitKey(0)\n",
    "\n",
    "            break\n",
    "\n",
    "    print('Total time: {}'.format(datetime.now() - start_time))\n",
    "\n",
    "\n",
    "print('---------- Start FOOD Recognition --------')\n",
    "list_foods = load_food_name(FOOD_TYPE)\n",
    "print(list_foods)\n",
    "path = SOURCE_PATH + 'fru1.jpg'\n",
    "recognize_food(path, list_foods)\n",
    "print('---------- End ----------')\n",
    "\n",
    "path1 = SOURCE_PATH + 'fru2.jpg'\n",
    "recognize_food(path1, list_foods)\n",
    "print('---------- End ----------')"
   ]
  }
 ],
 "metadata": {
  "kernelspec": {
   "display_name": "Python 3",
   "language": "python",
   "name": "python3"
  },
  "language_info": {
   "codemirror_mode": {
    "name": "ipython",
    "version": 3
   },
   "file_extension": ".py",
   "mimetype": "text/x-python",
   "name": "python",
   "nbconvert_exporter": "python",
   "pygments_lexer": "ipython3",
   "version": "3.7.6"
  }
 },
 "nbformat": 4,
 "nbformat_minor": 4
}
